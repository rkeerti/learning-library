{
 "cells": [
  {
   "cell_type": "markdown",
   "id": "109f5e18",
   "metadata": {},
   "source": [
    "# <b>Document AI features demo 1</b>"
   ]
  },
  {
   "cell_type": "markdown",
   "id": "42af6776",
   "metadata": {},
   "source": [
    "The AIServiceVisionClient offers the document <b>text detection</b> feature. This notebook aims to provide overall clarity about the feature to the user in terms of requirements, usage and the output of the API.<br>\n",
    "<ul>\n",
    "    <li>The raw output is saved as <code>response_document_demo1.json</code> file. </li>\n",
    "    <li>Detected text is displayed under <b>Display the lines of text detected</b> section.</li>\n",
    "    <li>The user can visualize the bounding boxes for the detected text under <b>View output document with bounding boxes</b> section. </li>\n",
    "</ul>"
   ]
  },
  {
   "cell_type": "markdown",
   "id": "140a0846",
   "metadata": {},
   "source": [
    "### Steps to run the notebook:\n",
    "<details>\n",
    "    <summary>Notebook session setup</summary>\n",
    "    <ol>\n",
    "        <li><font size=\"2\">Installing the OCI Vision SDK</font></li>\n",
    "        <li><font size=\"2\">Installing other dependencies</font></li>\n",
    "        <li><font size=\"2\">Setup sample input documents</font></li>\n",
    "        <li><font size=\"2\">Setup helper .py files</font></li>\n",
    "        <li><font size=\"2\">Create output folder</font></li>\n",
    "    </ol>\n",
    "</details>\n",
    "\n",
    "<details>\n",
    "    <summary>Importing the required modules</summary>\n",
    "</details>\n",
    "\n",
    "<details>\n",
    "    <summary>Setting the input variables</summary>\n",
    "     <font size=\"2\">The user can change the input variables, if necessary. They have been assigned default values.</font>\n",
    "</details>\n",
    "\n",
    "<details>\n",
    "    <summary>Running the main pipeline</summary>\n",
    "    <font size=\"2\">Run all cells to get the output in the <code>output</code> directory. </font><br>\n",
    "</details>"
   ]
  },
  {
   "cell_type": "markdown",
   "id": "54854702",
   "metadata": {},
   "source": [
    "### Notebook session setup\n",
    "<details>\n",
    "    <summary>Instructions</summary>\n",
    "    <ul>\n",
    "        <li><font size=\"2\">The user needs to setup only once.</font></li>\n",
    "        <li><font size=\"2\">Uncomment the commented cells and run once to setup.</font></li>\n",
    "        <li><font size=\"2\">Comment back the same cells to avoid running again.</font></li>\n",
    "    </ul>\n",
    "</details>"
   ]
  },
  {
   "cell_type": "markdown",
   "id": "b59e8651",
   "metadata": {},
   "source": [
    "#### Installing the OCI Vision SDK"
   ]
  },
  {
   "cell_type": "code",
   "execution_count": 18,
   "id": "9bb34ab7",
   "metadata": {},
   "outputs": [],
   "source": [
    "# !wget \"https://objectstorage.us-ashburn-1.oraclecloud.com/n/axhheqi2ofpb/b/vision-demo-notebooks/o/vision_service_python_client-0.3.45-py2.py3-none-any.whl\"\n",
    "# !pip install vision_service_python_client-0.3.45-py2.py3-none-any.whl\n",
    "# !rm vision_service_python_client-0.3.45-py2.py3-none-any.whl"
   ]
  },
  {
   "cell_type": "markdown",
   "id": "997d2327",
   "metadata": {},
   "source": [
    "#### Installing other dependencies"
   ]
  },
  {
   "cell_type": "code",
   "execution_count": 19,
   "id": "018c25fd",
   "metadata": {},
   "outputs": [],
   "source": [
    "# !pip install matplotlib==3.3.4\n",
    "# !pip install pandas==1.1.5"
   ]
  },
  {
   "cell_type": "markdown",
   "id": "316c33be",
   "metadata": {},
   "source": [
    "#### Setup sample input documents"
   ]
  },
  {
   "cell_type": "code",
   "execution_count": 35,
   "id": "5c03fc71",
   "metadata": {},
   "outputs": [],
   "source": [
    "# !wget \"https://objectstorage.us-ashburn-1.oraclecloud.com/n/axhheqi2ofpb/b/vision-demo-notebooks/o/TextDetectionOnePage.pdf\"\n",
    "# !wget \"https://objectstorage.us-ashburn-1.oraclecloud.com/n/axhheqi2ofpb/b/vision-demo-notebooks/o/table.pdf\"\n",
    "# !mkdir data\n",
    "# !mv TextDetectionOnePage.pdf data\n",
    "# !mv table.pdf data"
   ]
  },
  {
   "cell_type": "markdown",
   "id": "b8138982",
   "metadata": {},
   "source": [
    "#### Setup helper .py files"
   ]
  },
  {
   "cell_type": "code",
   "execution_count": 36,
   "id": "c1542a00",
   "metadata": {},
   "outputs": [],
   "source": [
    "# !wget \"https://objectstorage.us-ashburn-1.oraclecloud.com/n/axhheqi2ofpb/b/vision-demo-notebooks/o/analyze_document_utils.py\"\n",
    "# !mkdir helper\n",
    "# !mv analyze_document_utils.py helper"
   ]
  },
  {
   "cell_type": "markdown",
   "id": "7a160812",
   "metadata": {},
   "source": [
    "#### Create output folder"
   ]
  },
  {
   "cell_type": "code",
   "execution_count": 37,
   "id": "7eebe561",
   "metadata": {},
   "outputs": [],
   "source": [
    "# !mkdir output"
   ]
  },
  {
   "cell_type": "markdown",
   "id": "ba60921f",
   "metadata": {},
   "source": [
    "### Imports"
   ]
  },
  {
   "cell_type": "code",
   "execution_count": 23,
   "id": "d78c15d9",
   "metadata": {},
   "outputs": [],
   "source": [
    "import base64\n",
    "import os\n",
    "import io\n",
    "import oci\n",
    "import json\n",
    "from IPython.display import IFrame\n",
    "import requests\n",
    "\n",
    "from vision_service_python_client.ai_service_vision_client import AIServiceVisionClient\n",
    "from vision_service_python_client.models.analyze_document_details import AnalyzeDocumentDetails\n",
    "from vision_service_python_client.models.inline_document_details import InlineDocumentDetails\n",
    "from vision_service_python_client.models.document_text_detection_feature import DocumentTextDetectionFeature\n",
    "from helper.analyze_document_utils import is_url, clean_output"
   ]
  },
  {
   "cell_type": "markdown",
   "id": "0c707374",
   "metadata": {},
   "source": [
    "### Set input variables\n",
    "<details>\n",
    "<summary><font size=\"3\">input_path</font></summary>\n",
    "<font size=\"2\">The user can provide the document URL or filepath from the notebook session.</font><br>\n",
    "</details>"
   ]
  },
  {
   "cell_type": "code",
   "execution_count": 24,
   "id": "b39635d2",
   "metadata": {},
   "outputs": [],
   "source": [
    "input_path = \"data/TextDetectionOnePage.pdf\""
   ]
  },
  {
   "cell_type": "markdown",
   "id": "5bc089d4",
   "metadata": {},
   "source": [
    "### Authorize user config"
   ]
  },
  {
   "cell_type": "code",
   "execution_count": 25,
   "id": "209518af",
   "metadata": {},
   "outputs": [],
   "source": [
    "config = oci.config.from_file('~/.oci/config')"
   ]
  },
  {
   "cell_type": "markdown",
   "id": "65867858",
   "metadata": {},
   "source": [
    "### Get input document"
   ]
  },
  {
   "cell_type": "code",
   "execution_count": 26,
   "id": "c8b40358",
   "metadata": {},
   "outputs": [],
   "source": [
    "if is_url(input_path):\n",
    "    file_content = requests.get(input_path).content\n",
    "    encoded_string = base64.b64encode(file_content)\n",
    "    input_path = 'data/' + os.path.basename(input_path)\n",
    "    open(input_path, 'wb').write(file_content)\n",
    "else:\n",
    "    with open(input_path, \"rb\") as document_file:\n",
    "        encoded_string = base64.b64encode(document_file.read())"
   ]
  },
  {
   "cell_type": "markdown",
   "id": "749ef281",
   "metadata": {},
   "source": [
    "### View input document"
   ]
  },
  {
   "cell_type": "code",
   "execution_count": 27,
   "id": "c7909eaf",
   "metadata": {},
   "outputs": [
    {
     "data": {
      "text/html": [
       "\n",
       "        <iframe\n",
       "            width=\"600\"\n",
       "            height=\"500\"\n",
       "            src=\"data/TextDetectionOnePage.pdf\"\n",
       "            frameborder=\"0\"\n",
       "            allowfullscreen\n",
       "        ></iframe>\n",
       "        "
      ],
      "text/plain": [
       "<IPython.lib.display.IFrame at 0x7f0d43652128>"
      ]
     },
     "metadata": {},
     "output_type": "display_data"
    }
   ],
   "source": [
    "if is_url(input_path):\n",
    "    display(IFrame('data/' + os.path.basename(input_path), width=600, height=500))\n",
    "else:\n",
    "    display(IFrame(input_path, width=600, height=500))"
   ]
  },
  {
   "cell_type": "markdown",
   "id": "96623f39",
   "metadata": {},
   "source": [
    "### Create AI service vision client and get response object"
   ]
  },
  {
   "cell_type": "code",
   "execution_count": 28,
   "id": "3e25a131",
   "metadata": {},
   "outputs": [],
   "source": [
    "ai_service_vision_client = AIServiceVisionClient(config=config)\n",
    "analyze_document_details = AnalyzeDocumentDetails()\n",
    "inline_document_details = InlineDocumentDetails()\n",
    "\n",
    "text_detection_feature = DocumentTextDetectionFeature()\n",
    "text_detection_feature.generate_searchable_pdf = False\n",
    "features = [text_detection_feature]\n",
    "inline_document_details.data = encoded_string.decode('utf-8')\n",
    "analyze_document_details.document = inline_document_details\n",
    "analyze_document_details.features = features\n",
    "\n",
    "res = ai_service_vision_client.analyze_document(analyze_document_details=analyze_document_details)"
   ]
  },
  {
   "cell_type": "markdown",
   "id": "11268038",
   "metadata": {},
   "source": [
    "### Clean and save the API response as json"
   ]
  },
  {
   "cell_type": "code",
   "execution_count": 29,
   "id": "c82b09a4",
   "metadata": {},
   "outputs": [],
   "source": [
    "res_json = json.loads(repr(res.data))\n",
    "clean_res = clean_output(res_json)\n",
    "\n",
    "with open('output/response_document_demo1.json', 'w') as fp:\n",
    "    json.dump(clean_res, fp)"
   ]
  },
  {
   "cell_type": "markdown",
   "id": "75a40099",
   "metadata": {},
   "source": [
    "### Display the lines of text detected"
   ]
  },
  {
   "cell_type": "code",
   "execution_count": 30,
   "id": "0cd95358",
   "metadata": {},
   "outputs": [
    {
     "name": "stdout",
     "output_type": "stream",
     "text": [
      "**************** PAGE NO. 1 ****************\n",
      "\n",
      "algorithms run as native L funcions o as PSL scis, callout o ensibitmwork addins. Modals\n",
      "are first class database objects that can be built, applied, shared, and audited.\n",
      "In the early 2000's, starting in Oracle Data Mining Release 9.2, Oracle's first data mining algorithms took advantage\n",
      "of available core Database's strengths-specifically, counting, parallielism, scalability and other database\n",
      "architectural underpinnings. Essentially, the first two Oracle data mining algorithms, Naive Bayes and A Priori\n",
      "algorithms, are based on counting principles. They count everything very quickly and then assemble conditional\n",
      "probability prediiv moal 100 isi the databse. Nther the data te prediiv meso te resuls\n",
      "ever leave the database.\n",
      "OAA Nalive Bayes algorithm can quickly builds predictive models to predict e.g., \"Who will churn?\", \"Which\n",
      "customers are most likely to purchase Product A?\", or \"What is the probability that an item will fail?\" Let's take an\n",
      "example in a bit more detail for comprehension. Let's say we are interested in selling Product A (e.g. a motorcycle\n",
      "or $500 shoes, etc.). The Oracle Advanced Analytics data mining algorithms, specifically the Naive Bayes\n",
      "algorithm, of all the customers who purchased Product A, it counts how many customers were male vs. female\n",
      "How many rent an apartment vs. owns their own home? How many have children and how many? Each of these\n",
      "predicts whom we should target to increase our likelihood of selling more of Product A.\n",
      "OAA's A Priori \"market basket analysis\" algorithm counts items in each customer's transactional \"baskets\" while\n",
      "looking for co-occurring items e.g. A + B appear together frequently, and then provides conditional probability AR\n",
      "rules. For example:\n",
      "IF, \"Cereal\"' AND \"Bananas\" appear in the same customer's basket,\n",
      "THEN, the \"Milk\" is also likely to appear in the basket.\n",
      "WITH Confidence = 87%, and Support = 11%.\n",
      "Armed with these types of new customer insights from Oracle Advanced Analytics, a store could decide to place the\n",
      "milk near the cereal and bananas, offer new promotional \"breakfast kit\" product bundles or make real-time customer\n",
      "specific recommendations as the customer checks-out. This is just a simple example of the types of ways that big\n",
      "data analytics can find \"actionable insights\" from data. Obviously, more data, more advanced analytics\n",
      "methodologies and fast enterprise wide deployment can open new doors to many new big data and analytics\n",
      "applications and solutions possibilities.\n",
      "SQL and R Support\n",
      "Where SQL is the standard language for data management and has been for 40+ years, for data analysis, various\n",
      "languages compete-R, SAS, Python and SQL and others. SAS, S+, SQL, SPSS and Matlab have been long time\n",
      "favorites, but in recent past years, open source R especially has surged to the top of the pack and Python and\n",
      "others have emerged. Per the KDD Nuggets data mining industry community annual polls\n",
      "(http/www.kdnuggets.com/polls/). R and SQL currently compete for #1 and #2 positions, respectively.\n",
      "The goo news is that Oracle Advanced Anaics supports both guagSL and R. There alegions of\n",
      "developers who know SQL for data management and Oracle provides support for data mining and advanced\n",
      "analytics via Oracle Advanced Analytics' SQL data mining functions and provides tight, industry leading integration\n",
      "with open source R statistical programming language.\n",
      "Most Oracle customers are very familiar with SQL as a language for query, reporting, and analysis of structured\n",
      "data. It is the de facto standard for analysis and the technology that underlies most BI tools. R is a widely popular\n",
      "open source programming language for statistical analysis that is free and because of that is taught in most data\n",
      "& | BIG DATA ANALYTICS WITH ORACLE ADVANCED ANALYTICS\n",
      "\n",
      "\n"
     ]
    }
   ],
   "source": [
    "for i, page in enumerate(clean_res['pages']):\n",
    "    print('**************** PAGE NO.', i+1, '****************\\n')\n",
    "    for line in page['lines']:\n",
    "        print(line['text'])\n",
    "    print('\\n')"
   ]
  },
  {
   "cell_type": "markdown",
   "id": "8ca8087c",
   "metadata": {},
   "source": [
    "### View output document with bounding boxes\n",
    "\n",
    "The user can uncomment and run the cells below to visualize the bounding boxes over the document. This visualization feature is currently supported for <b>PDF format only.</b>"
   ]
  },
  {
   "cell_type": "markdown",
   "id": "69429356",
   "metadata": {},
   "source": [
    "#### Install dependencies"
   ]
  },
  {
   "cell_type": "code",
   "execution_count": 31,
   "id": "c6fac041",
   "metadata": {},
   "outputs": [],
   "source": [
    "# !pip install fitz==0.0.1.dev2\n",
    "# !pip install pymupdf==1.18.19"
   ]
  },
  {
   "cell_type": "markdown",
   "id": "4efc345c",
   "metadata": {},
   "source": [
    "#### Imports"
   ]
  },
  {
   "cell_type": "code",
   "execution_count": 32,
   "id": "40b7a4a6",
   "metadata": {},
   "outputs": [],
   "source": [
    "from helper.analyze_document_utils import add_text_bounding_boxes_to_pdf\n",
    "import fitz"
   ]
  },
  {
   "cell_type": "markdown",
   "id": "29197f47",
   "metadata": {},
   "source": [
    "#### Add bounding boxes"
   ]
  },
  {
   "cell_type": "code",
   "execution_count": 33,
   "id": "5c2ed6d0",
   "metadata": {},
   "outputs": [],
   "source": [
    "doc = fitz.open(input_path)\n",
    "doc = add_text_bounding_boxes_to_pdf(doc, clean_res)\n",
    "output_path = 'output/' + 'output_' + os.path.basename(input_path)\n",
    "doc.save(output_path)"
   ]
  },
  {
   "cell_type": "markdown",
   "id": "90caa1b3",
   "metadata": {},
   "source": [
    "#### Display output document"
   ]
  },
  {
   "cell_type": "code",
   "execution_count": 34,
   "id": "7ff0c5c9",
   "metadata": {},
   "outputs": [
    {
     "data": {
      "text/html": [
       "\n",
       "        <iframe\n",
       "            width=\"600\"\n",
       "            height=\"500\"\n",
       "            src=\"output/output_TextDetectionOnePage.pdf\"\n",
       "            frameborder=\"0\"\n",
       "            allowfullscreen\n",
       "        ></iframe>\n",
       "        "
      ],
      "text/plain": [
       "<IPython.lib.display.IFrame at 0x7f0d4280cef0>"
      ]
     },
     "metadata": {},
     "output_type": "display_data"
    }
   ],
   "source": [
    "display(IFrame(output_path, width=600, height=500))"
   ]
  },
  {
   "cell_type": "code",
   "execution_count": null,
   "id": "76cecde3",
   "metadata": {},
   "outputs": [],
   "source": []
  }
 ],
 "metadata": {
  "kernelspec": {
   "display_name": "Python 3",
   "language": "python",
   "name": "python3"
  },
  "language_info": {
   "codemirror_mode": {
    "name": "ipython",
    "version": 3
   },
   "file_extension": ".py",
   "mimetype": "text/x-python",
   "name": "python",
   "nbconvert_exporter": "python",
   "pygments_lexer": "ipython3",
   "version": "3.6.10"
  }
 },
 "nbformat": 4,
 "nbformat_minor": 5
}
