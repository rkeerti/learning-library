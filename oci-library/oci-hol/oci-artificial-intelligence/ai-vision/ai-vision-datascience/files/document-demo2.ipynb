{
 "cells": [
  {
   "cell_type": "markdown",
   "id": "9e47710d",
   "metadata": {},
   "source": [
    "# <b>Document AI features demo 2</b>"
   ]
  },
  {
   "cell_type": "markdown",
   "id": "26cf26ed",
   "metadata": {},
   "source": [
    "The AIServiceVisionClient offers the <b>document classification</b>, <b>language classification</b> and <b>table detection</b> features. This notebook aims to provide overall clarity about the feature to the user in terms of requirements, usage and the output of the API.<br>\n",
    "<ul>\n",
    "    <li>The raw output is saved as <code>response_document_demo2.json</code> file. </li>\n",
    "    <li>The detected tables are printed under <b> Display the detected tables</b> section.</li>\n",
    "    <li>Document classes and detected language codes are printed in descending order of their confidence levels in the last section of the notebook. The language codes follow the ISO 639-2 standard.</li>\n",
    "    <li>The user can visualize the bounding boxes for the detected tables under <b>View output document with bounding boxes</b> section. </li>\n",
    "</ul>"
   ]
  },
  {
   "cell_type": "markdown",
   "id": "3a15c7c8",
   "metadata": {},
   "source": [
    "### Steps to run the notebook:\n",
    "<details>\n",
    "    <summary>Notebook session setup</summary>\n",
    "    <ol>\n",
    "        <li><font size=\"2\">Installing the OCI Vision SDK</font></li>\n",
    "        <li><font size=\"2\">Installing other dependencies</font></li>\n",
    "        <li><font size=\"2\">Setup sample input documents</font></li>\n",
    "        <li><font size=\"2\">Setup helper .py files</font></li>\n",
    "        <li><font size=\"2\">Create output folder</font></li>\n",
    "    </ol>\n",
    "</details>\n",
    "\n",
    "<details>\n",
    "    <summary>Importing the required modules</summary>\n",
    "</details>\n",
    "\n",
    "<details>\n",
    "    <summary>Setting the input variables</summary>\n",
    "     <font size=\"2\">The user can change the input variables, if necessary. They have been assigned default values.</font>\n",
    "</details>\n",
    "\n",
    "<details>\n",
    "    <summary>Running the main pipeline</summary>\n",
    "    <font size=\"2\">Run all cells to get the output in the <code>output</code> directory. </font><br>\n",
    "</details>"
   ]
  },
  {
   "cell_type": "markdown",
   "id": "68aaadea",
   "metadata": {},
   "source": [
    "### Notebook session setup\n",
    "<details>\n",
    "    <summary>Instructions</summary>\n",
    "    <ul>\n",
    "        <li><font size=\"2\">The user needs to setup only once.</font></li>\n",
    "        <li><font size=\"2\">Uncomment the commented cells and run once to setup.</font></li>\n",
    "        <li><font size=\"2\">Comment back the same cells to avoid running again.</font></li>\n",
    "    </ul>\n",
    "</details>"
   ]
  },
  {
   "cell_type": "markdown",
   "id": "aaed21c7",
   "metadata": {},
   "source": [
    "#### Installing the OCI Vision SDK"
   ]
  },
  {
   "cell_type": "code",
   "execution_count": 20,
   "id": "f9c48846",
   "metadata": {},
   "outputs": [],
   "source": [
    "# !wget \"https://objectstorage.us-ashburn-1.oraclecloud.com/n/axhheqi2ofpb/b/vision-demo-notebooks/o/vision_service_python_client-0.3.45-py2.py3-none-any.whl\"\n",
    "# !pip install vision_service_python_client-0.3.45-py2.py3-none-any.whl\n",
    "# !rm vision_service_python_client-0.3.45-py2.py3-none-any.whl"
   ]
  },
  {
   "cell_type": "markdown",
   "id": "40841d46",
   "metadata": {},
   "source": [
    "#### Installing other dependencies"
   ]
  },
  {
   "cell_type": "code",
   "execution_count": 21,
   "id": "c1aab7d7",
   "metadata": {},
   "outputs": [],
   "source": [
    "# !pip install matplotlib==3.3.4\n",
    "# !pip install pandas==1.1.5"
   ]
  },
  {
   "cell_type": "markdown",
   "id": "8fa1c5a1",
   "metadata": {},
   "source": [
    "#### Setup sample input documents"
   ]
  },
  {
   "cell_type": "code",
   "execution_count": 22,
   "id": "d688b8c5",
   "metadata": {},
   "outputs": [],
   "source": [
    "# !wget \"https://objectstorage.us-ashburn-1.oraclecloud.com/n/axhheqi2ofpb/b/vision-demo-notebooks/o/TextDetectionOnePage.pdf\"\n",
    "# !wget \"https://objectstorage.us-ashburn-1.oraclecloud.com/n/axhheqi2ofpb/b/vision-demo-notebooks/o/table.pdf\"\n",
    "# !mkdir data\n",
    "# !mv TextDetectionOnePage.pdf data\n",
    "# !mv table.pdf data"
   ]
  },
  {
   "cell_type": "markdown",
   "id": "d135b6b3",
   "metadata": {},
   "source": [
    "#### Setup helper .py files"
   ]
  },
  {
   "cell_type": "code",
   "execution_count": 23,
   "id": "56e0c810",
   "metadata": {},
   "outputs": [],
   "source": [
    "# !wget \"https://objectstorage.us-ashburn-1.oraclecloud.com/n/axhheqi2ofpb/b/vision-demo-notebooks/o/analyze_document_utils.py\"\n",
    "# !mkdir helper\n",
    "# !mv analyze_document_utils.py helper"
   ]
  },
  {
   "cell_type": "markdown",
   "id": "2dc0c310",
   "metadata": {},
   "source": [
    "#### Create output folder"
   ]
  },
  {
   "cell_type": "code",
   "execution_count": 24,
   "id": "3ce58e6c",
   "metadata": {},
   "outputs": [],
   "source": [
    "# !mkdir output"
   ]
  },
  {
   "cell_type": "markdown",
   "id": "44a1bad5",
   "metadata": {},
   "source": [
    "### Imports"
   ]
  },
  {
   "cell_type": "code",
   "execution_count": 25,
   "id": "34c53c03",
   "metadata": {},
   "outputs": [],
   "source": [
    "import base64\n",
    "import os\n",
    "import io\n",
    "import oci\n",
    "import json\n",
    "from IPython.display import IFrame\n",
    "import requests\n",
    "import pandas as pd\n",
    "import numpy as np\n",
    "\n",
    "from vision_service_python_client.ai_service_vision_client import AIServiceVisionClient\n",
    "from vision_service_python_client.models.analyze_document_details import AnalyzeDocumentDetails\n",
    "from vision_service_python_client.models.inline_document_details import InlineDocumentDetails\n",
    "from vision_service_python_client.models.document_table_detection_feature import DocumentTableDetectionFeature\n",
    "from vision_service_python_client.models.document_classification_feature import DocumentClassificationFeature\n",
    "from vision_service_python_client.models.document_language_classification_feature import DocumentLanguageClassificationFeature\n",
    "\n",
    "from helper.analyze_document_utils import is_url, clean_output, display_classes"
   ]
  },
  {
   "cell_type": "markdown",
   "id": "d8575c6b",
   "metadata": {},
   "source": [
    "### Set input variables\n",
    "<details>\n",
    "<summary><font size=\"3\">input_path</font></summary>\n",
    "<font size=\"2\">The user can provide the document URL or filepath from the notebook session.</font><br>\n",
    "</details>\n",
    "<details>\n",
    "<summary><font size=\"3\">max_results</font></summary>\n",
    "    <font size=\"2\">Provide the maximum number of results needed for document classification and language classification. This is an upper limit over the output classes, the API may detect lesser classes according to the document.</font><br>\n",
    "</details>"
   ]
  },
  {
   "cell_type": "code",
   "execution_count": 26,
   "id": "c07e7559",
   "metadata": {},
   "outputs": [],
   "source": [
    "input_path = \"data/table.pdf\"\n",
    "max_results = 5"
   ]
  },
  {
   "cell_type": "markdown",
   "id": "eb832d7f",
   "metadata": {},
   "source": [
    "### Authorize user config"
   ]
  },
  {
   "cell_type": "code",
   "execution_count": 27,
   "id": "f5c95df0",
   "metadata": {},
   "outputs": [],
   "source": [
    "config = oci.config.from_file('~/.oci/config')"
   ]
  },
  {
   "cell_type": "markdown",
   "id": "3e1230ce",
   "metadata": {},
   "source": [
    "### Get input document"
   ]
  },
  {
   "cell_type": "code",
   "execution_count": 28,
   "id": "e2ee489d",
   "metadata": {},
   "outputs": [],
   "source": [
    "if is_url(input_path):\n",
    "    file_content = requests.get(input_path).content\n",
    "    encoded_string = base64.b64encode(file_content)\n",
    "    open('data/' + os.path.basename(input_path), 'wb').write(file_content)\n",
    "else:\n",
    "    with open(input_path, \"rb\") as document_file:\n",
    "        encoded_string = base64.b64encode(document_file.read())"
   ]
  },
  {
   "cell_type": "markdown",
   "id": "e3a2f3da",
   "metadata": {},
   "source": [
    "### View input document"
   ]
  },
  {
   "cell_type": "code",
   "execution_count": 29,
   "id": "41c5cc6c",
   "metadata": {},
   "outputs": [
    {
     "data": {
      "text/html": [
       "\n",
       "        <iframe\n",
       "            width=\"600\"\n",
       "            height=\"500\"\n",
       "            src=\"data/table.pdf\"\n",
       "            frameborder=\"0\"\n",
       "            allowfullscreen\n",
       "        ></iframe>\n",
       "        "
      ],
      "text/plain": [
       "<IPython.lib.display.IFrame at 0x7f3d10d49da0>"
      ]
     },
     "metadata": {},
     "output_type": "display_data"
    }
   ],
   "source": [
    "if is_url(input_path):\n",
    "    display(IFrame('data/' + os.path.basename(input_path), width=600, height=500))\n",
    "else:\n",
    "    display(IFrame(input_path, width=600, height=500))"
   ]
  },
  {
   "cell_type": "markdown",
   "id": "1cd512a2",
   "metadata": {},
   "source": [
    "### Create AI service vision client and get response object"
   ]
  },
  {
   "cell_type": "code",
   "execution_count": 30,
   "id": "89c9ab71",
   "metadata": {},
   "outputs": [],
   "source": [
    "ai_service_vision_client = AIServiceVisionClient(config=config)\n",
    "analyze_document_details = AnalyzeDocumentDetails()\n",
    "inline_document_details = InlineDocumentDetails()\n",
    "\n",
    "table_detection_feature = DocumentTableDetectionFeature()\n",
    "document_classification_feature = DocumentClassificationFeature()\n",
    "document_classification_feature.max_results = max_results\n",
    "document_language_classification_feature = DocumentLanguageClassificationFeature()\n",
    "document_language_classification_feature.max_results = max_results\n",
    "\n",
    "features = [table_detection_feature, document_classification_feature, document_language_classification_feature]\n",
    "inline_document_details.data = encoded_string.decode('utf-8')\n",
    "analyze_document_details.document = inline_document_details\n",
    "analyze_document_details.features = features\n",
    "\n",
    "res = ai_service_vision_client.analyze_document(analyze_document_details=analyze_document_details)"
   ]
  },
  {
   "cell_type": "markdown",
   "id": "8e90d777",
   "metadata": {},
   "source": [
    "### Clean and save the API response as json"
   ]
  },
  {
   "cell_type": "code",
   "execution_count": 31,
   "id": "60c0a778",
   "metadata": {},
   "outputs": [],
   "source": [
    "res_json = json.loads(repr(res.data))\n",
    "clean_res = clean_output(res_json)\n",
    "\n",
    "with open('output/response_document_demo2.json', 'w') as fp:\n",
    "    json.dump(clean_res, fp)"
   ]
  },
  {
   "cell_type": "markdown",
   "id": "01a2c579",
   "metadata": {},
   "source": [
    "### Display the detected tables"
   ]
  },
  {
   "cell_type": "code",
   "execution_count": 32,
   "id": "9ad80f23",
   "metadata": {},
   "outputs": [
    {
     "data": {
      "text/html": [
       "<style  type=\"text/css\" >\n",
       "</style><table id=\"T_a9d81c30_4620_11ec_874a_0242ac130002\" ><thead>    <tr>        <th class=\"col_heading level0 col0\" >0</th>        <th class=\"col_heading level0 col1\" >1</th>        <th class=\"col_heading level0 col2\" >2</th>        <th class=\"col_heading level0 col3\" >3</th>    </tr></thead><tbody>\n",
       "                <tr>\n",
       "                                <td id=\"T_a9d81c30_4620_11ec_874a_0242ac130002row0_col0\" class=\"data row0 col0\" >Function</td>\n",
       "                        <td id=\"T_a9d81c30_4620_11ec_874a_0242ac130002row0_col1\" class=\"data row0 col1\" ></td>\n",
       "                        <td id=\"T_a9d81c30_4620_11ec_874a_0242ac130002row0_col2\" class=\"data row0 col2\" >Algorithms</td>\n",
       "                        <td id=\"T_a9d81c30_4620_11ec_874a_0242ac130002row0_col3\" class=\"data row0 col3\" >Applicability</td>\n",
       "            </tr>\n",
       "            <tr>\n",
       "                                <td id=\"T_a9d81c30_4620_11ec_874a_0242ac130002row1_col0\" class=\"data row1 col0\" >Classification</td>\n",
       "                        <td id=\"T_a9d81c30_4620_11ec_874a_0242ac130002row1_col1\" class=\"data row1 col1\" ></td>\n",
       "                        <td id=\"T_a9d81c30_4620_11ec_874a_0242ac130002row1_col2\" class=\"data row1 col2\" >Logistic Regression (GLM) Decision Trees Naive Bayes Support Vector Machines (SVM)</td>\n",
       "                        <td id=\"T_a9d81c30_4620_11ec_874a_0242ac130002row1_col3\" class=\"data row1 col3\" >Classical statistical technique Popular / Rules / tramsparency Embedded app Wide / narrow data/ text</td>\n",
       "            </tr>\n",
       "            <tr>\n",
       "                                <td id=\"T_a9d81c30_4620_11ec_874a_0242ac130002row2_col0\" class=\"data row2 col0\" >Regrestion</td>\n",
       "                        <td id=\"T_a9d81c30_4620_11ec_874a_0242ac130002row2_col1\" class=\"data row2 col1\" ></td>\n",
       "                        <td id=\"T_a9d81c30_4620_11ec_874a_0242ac130002row2_col2\" class=\"data row2 col2\" >Linear Regression (GLM) Support Vector Machine (SVM)</td>\n",
       "                        <td id=\"T_a9d81c30_4620_11ec_874a_0242ac130002row2_col3\" class=\"data row2 col3\" >Classical statistical technique Wide / narrow data/ text</td>\n",
       "            </tr>\n",
       "            <tr>\n",
       "                                <td id=\"T_a9d81c30_4620_11ec_874a_0242ac130002row3_col0\" class=\"data row3 col0\" >Ancmaly Detection</td>\n",
       "                        <td id=\"T_a9d81c30_4620_11ec_874a_0242ac130002row3_col1\" class=\"data row3 col1\" ></td>\n",
       "                        <td id=\"T_a9d81c30_4620_11ec_874a_0242ac130002row3_col2\" class=\"data row3 col2\" >One Class SVM</td>\n",
       "                        <td id=\"T_a9d81c30_4620_11ec_874a_0242ac130002row3_col3\" class=\"data row3 col3\" >Unknown fraud cases or anomalies</td>\n",
       "            </tr>\n",
       "            <tr>\n",
       "                                <td id=\"T_a9d81c30_4620_11ec_874a_0242ac130002row4_col0\" class=\"data row4 col0\" >Attribute Importance</td>\n",
       "                        <td id=\"T_a9d81c30_4620_11ec_874a_0242ac130002row4_col1\" class=\"data row4 col1\" ></td>\n",
       "                        <td id=\"T_a9d81c30_4620_11ec_874a_0242ac130002row4_col2\" class=\"data row4 col2\" >Minimum Description Length (MDL) Principal Components Analysis (PCA)</td>\n",
       "                        <td id=\"T_a9d81c30_4620_11ec_874a_0242ac130002row4_col3\" class=\"data row4 col3\" >Attribute reduction, Reduce data noise</td>\n",
       "            </tr>\n",
       "            <tr>\n",
       "                                <td id=\"T_a9d81c30_4620_11ec_874a_0242ac130002row5_col0\" class=\"data row5 col0\" >Astociation Rules</td>\n",
       "                        <td id=\"T_a9d81c30_4620_11ec_874a_0242ac130002row5_col1\" class=\"data row5 col1\" ></td>\n",
       "                        <td id=\"T_a9d81c30_4620_11ec_874a_0242ac130002row5_col2\" class=\"data row5 col2\" >Aeciori</td>\n",
       "                        <td id=\"T_a9d81c30_4620_11ec_874a_0242ac130002row5_col3\" class=\"data row5 col3\" >Marker basket analysis / Nest Best Offer</td>\n",
       "            </tr>\n",
       "            <tr>\n",
       "                                <td id=\"T_a9d81c30_4620_11ec_874a_0242ac130002row6_col0\" class=\"data row6 col0\" >Clustering</td>\n",
       "                        <td id=\"T_a9d81c30_4620_11ec_874a_0242ac130002row6_col1\" class=\"data row6 col1\" ></td>\n",
       "                        <td id=\"T_a9d81c30_4620_11ec_874a_0242ac130002row6_col2\" class=\"data row6 col2\" >Hierarchicalk-Means HierarchicalO-Claster Expectation-Maximization Clustering (EM)</td>\n",
       "                        <td id=\"T_a9d81c30_4620_11ec_874a_0242ac130002row6_col3\" class=\"data row6 col3\" >Product grouping/ Text mining Gene and protein analysis</td>\n",
       "            </tr>\n",
       "            <tr>\n",
       "                                <td id=\"T_a9d81c30_4620_11ec_874a_0242ac130002row7_col0\" class=\"data row7 col0\" >Feature Extraction</td>\n",
       "                        <td id=\"T_a9d81c30_4620_11ec_874a_0242ac130002row7_col1\" class=\"data row7 col1\" ></td>\n",
       "                        <td id=\"T_a9d81c30_4620_11ec_874a_0242ac130002row7_col2\" class=\"data row7 col2\" >Nornegative Matrie Factoritation (NME) Singular Value Decompostion (SVD)</td>\n",
       "                        <td id=\"T_a9d81c30_4620_11ec_874a_0242ac130002row7_col3\" class=\"data row7 col3\" >Text analysis / Feature reduction</td>\n",
       "            </tr>\n",
       "    </tbody></table>"
      ],
      "text/plain": [
       "<pandas.io.formats.style.Styler at 0x7f3d20c67cf8>"
      ]
     },
     "metadata": {},
     "output_type": "display_data"
    }
   ],
   "source": [
    "df = None\n",
    "\n",
    "for page in clean_res['pages']:\n",
    "    if 'tables' not in page:\n",
    "        continue\n",
    "    for table in page['tables']:\n",
    "        df = pd.DataFrame(index=np.arange(int(table['row_count'])+1), columns=np.arange(int(table['column_count'])+1)).fillna('')\n",
    "        if 'body_rows' not in table:\n",
    "            continue\n",
    "            \n",
    "        for row in table['body_rows']:\n",
    "            if 'cells' not in row:\n",
    "                continue\n",
    "                \n",
    "            for cell in row['cells']:\n",
    "                row_no = int(cell['row_index'])\n",
    "                col_no = int(cell['column_index'])\n",
    "                text = cell['text']\n",
    "                df.iloc[row_no,col_no] = text\n",
    "        display(df.style.hide_index())"
   ]
  },
  {
   "cell_type": "markdown",
   "id": "b52b7c57",
   "metadata": {},
   "source": [
    "### Display the document types with their confidence levels"
   ]
  },
  {
   "cell_type": "code",
   "execution_count": 33,
   "id": "115174c2",
   "metadata": {},
   "outputs": [
    {
     "data": {
      "text/html": [
       "<style  type=\"text/css\" >\n",
       "    #T_a9dc6934_4620_11ec_874a_0242ac130002 th {\n",
       "          text-align: center;\n",
       "    }#T_a9dc6934_4620_11ec_874a_0242ac130002row0_col0,#T_a9dc6934_4620_11ec_874a_0242ac130002row0_col1{\n",
       "            text-align:  center;\n",
       "        }</style><table id=\"T_a9dc6934_4620_11ec_874a_0242ac130002\" ><thead>    <tr>        <th class=\"blank level0\" ></th>        <th class=\"col_heading level0 col0\" >Document Type</th>        <th class=\"col_heading level0 col1\" >Confidence</th>    </tr></thead><tbody>\n",
       "                <tr>\n",
       "                        <th id=\"T_a9dc6934_4620_11ec_874a_0242ac130002level0_row0\" class=\"row_heading level0 row0\" >1</th>\n",
       "                        <td id=\"T_a9dc6934_4620_11ec_874a_0242ac130002row0_col0\" class=\"data row0 col0\" >Others</td>\n",
       "                        <td id=\"T_a9dc6934_4620_11ec_874a_0242ac130002row0_col1\" class=\"data row0 col1\" >0.999998</td>\n",
       "            </tr>\n",
       "    </tbody></table>"
      ],
      "text/plain": [
       "<pandas.io.formats.style.Styler at 0x7f3d5bbe8a20>"
      ]
     },
     "metadata": {},
     "output_type": "display_data"
    }
   ],
   "source": [
    "if 'detected_document_types' in clean_res:\n",
    "    display_classes(clean_res['detected_document_types'], 'Document Type')"
   ]
  },
  {
   "cell_type": "markdown",
   "id": "b3c83277",
   "metadata": {},
   "source": [
    "### Display the document language codes with their confidence levels"
   ]
  },
  {
   "cell_type": "code",
   "execution_count": 34,
   "id": "d8d1e7e8",
   "metadata": {},
   "outputs": [
    {
     "data": {
      "text/html": [
       "<style  type=\"text/css\" >\n",
       "    #T_a9df6b34_4620_11ec_874a_0242ac130002 th {\n",
       "          text-align: center;\n",
       "    }#T_a9df6b34_4620_11ec_874a_0242ac130002row0_col0,#T_a9df6b34_4620_11ec_874a_0242ac130002row0_col1{\n",
       "            text-align:  center;\n",
       "        }</style><table id=\"T_a9df6b34_4620_11ec_874a_0242ac130002\" ><thead>    <tr>        <th class=\"blank level0\" ></th>        <th class=\"col_heading level0 col0\" >Language Code</th>        <th class=\"col_heading level0 col1\" >Confidence</th>    </tr></thead><tbody>\n",
       "                <tr>\n",
       "                        <th id=\"T_a9df6b34_4620_11ec_874a_0242ac130002level0_row0\" class=\"row_heading level0 row0\" >1</th>\n",
       "                        <td id=\"T_a9df6b34_4620_11ec_874a_0242ac130002row0_col0\" class=\"data row0 col0\" >ENG</td>\n",
       "                        <td id=\"T_a9df6b34_4620_11ec_874a_0242ac130002row0_col1\" class=\"data row0 col1\" >1.000000</td>\n",
       "            </tr>\n",
       "    </tbody></table>"
      ],
      "text/plain": [
       "<pandas.io.formats.style.Styler at 0x7f3d10cc8be0>"
      ]
     },
     "metadata": {},
     "output_type": "display_data"
    }
   ],
   "source": [
    "if 'detected_languages' in clean_res:\n",
    "    display_classes(clean_res['detected_languages'], 'Language Code')"
   ]
  },
  {
   "cell_type": "markdown",
   "id": "e4644aea",
   "metadata": {},
   "source": [
    "### View output document with bounding boxes\n",
    "\n",
    "The user can uncomment and run the cells below to visualize the bounding boxes over the document. This visualization feature is currently supported for <b>PDF format only.</b>"
   ]
  },
  {
   "cell_type": "markdown",
   "id": "56b35eb3",
   "metadata": {},
   "source": [
    "#### Install dependencies"
   ]
  },
  {
   "cell_type": "code",
   "execution_count": 35,
   "id": "d1d6a889",
   "metadata": {},
   "outputs": [],
   "source": [
    "# !pip install fitz==0.0.1.dev2\n",
    "# !pip install pymupdf==1.18.19"
   ]
  },
  {
   "cell_type": "markdown",
   "id": "96c7511e",
   "metadata": {},
   "source": [
    "#### Imports"
   ]
  },
  {
   "cell_type": "code",
   "execution_count": 36,
   "id": "dcd04731",
   "metadata": {},
   "outputs": [],
   "source": [
    "from helper.analyze_document_utils import add_table_bounding_boxes_to_pdf\n",
    "import fitz"
   ]
  },
  {
   "cell_type": "markdown",
   "id": "48cf7576",
   "metadata": {},
   "source": [
    "#### Add bounding boxes"
   ]
  },
  {
   "cell_type": "code",
   "execution_count": 37,
   "id": "4db85ffb",
   "metadata": {},
   "outputs": [],
   "source": [
    "doc = fitz.open(input_path)\n",
    "doc = add_table_bounding_boxes_to_pdf(doc, clean_res)\n",
    "output_path = 'output/' + 'output_' + os.path.basename(input_path)\n",
    "doc.save(output_path)"
   ]
  },
  {
   "cell_type": "markdown",
   "id": "5b3d054e",
   "metadata": {},
   "source": [
    "#### Display output document"
   ]
  },
  {
   "cell_type": "code",
   "execution_count": 38,
   "id": "97fa2d53",
   "metadata": {},
   "outputs": [
    {
     "data": {
      "text/html": [
       "\n",
       "        <iframe\n",
       "            width=\"600\"\n",
       "            height=\"500\"\n",
       "            src=\"output/output_table.pdf\"\n",
       "            frameborder=\"0\"\n",
       "            allowfullscreen\n",
       "        ></iframe>\n",
       "        "
      ],
      "text/plain": [
       "<IPython.lib.display.IFrame at 0x7f3d5b293f28>"
      ]
     },
     "metadata": {},
     "output_type": "display_data"
    }
   ],
   "source": [
    "display(IFrame(output_path, width=600, height=500))"
   ]
  },
  {
   "cell_type": "code",
   "execution_count": null,
   "id": "1abc8441",
   "metadata": {},
   "outputs": [],
   "source": []
  }
 ],
 "metadata": {
  "kernelspec": {
   "display_name": "Python 3",
   "language": "python",
   "name": "python3"
  },
  "language_info": {
   "codemirror_mode": {
    "name": "ipython",
    "version": 3
   },
   "file_extension": ".py",
   "mimetype": "text/x-python",
   "name": "python",
   "nbconvert_exporter": "python",
   "pygments_lexer": "ipython3",
   "version": "3.6.10"
  }
 },
 "nbformat": 4,
 "nbformat_minor": 5
}
